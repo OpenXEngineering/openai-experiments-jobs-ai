{
 "cells": [
  {
   "cell_type": "code",
   "execution_count": 1,
   "metadata": {},
   "outputs": [
    {
     "name": "stdout",
     "output_type": "stream",
     "text": [
      "Requirement already satisfied: openai in c:\\users\\hafid\\anaconda3\\lib\\site-packages (0.6.3)\n",
      "Requirement already satisfied: requests>=2.20; python_version >= \"3.0\" in c:\\users\\hafid\\anaconda3\\lib\\site-packages (from openai) (2.22.0)\n",
      "Requirement already satisfied: tqdm in c:\\users\\hafid\\anaconda3\\lib\\site-packages (from openai) (4.42.1)\n",
      "Requirement already satisfied: idna<2.9,>=2.5 in c:\\users\\hafid\\anaconda3\\lib\\site-packages (from requests>=2.20; python_version >= \"3.0\"->openai) (2.8)\n",
      "Requirement already satisfied: certifi>=2017.4.17 in c:\\users\\hafid\\anaconda3\\lib\\site-packages (from requests>=2.20; python_version >= \"3.0\"->openai) (2019.11.28)\n",
      "Requirement already satisfied: chardet<3.1.0,>=3.0.2 in c:\\users\\hafid\\anaconda3\\lib\\site-packages (from requests>=2.20; python_version >= \"3.0\"->openai) (3.0.4)\n",
      "Requirement already satisfied: urllib3!=1.25.0,!=1.25.1,<1.26,>=1.21.1 in c:\\users\\hafid\\anaconda3\\lib\\site-packages (from requests>=2.20; python_version >= \"3.0\"->openai) (1.25.8)\n"
     ]
    }
   ],
   "source": [
    "%run ./setup-env.ipynb"
   ]
  },
  {
   "cell_type": "code",
   "execution_count": 2,
   "metadata": {},
   "outputs": [],
   "source": [
    "# load libraries\n",
    "import os\n",
    "import openai\n",
    "\n",
    "# Define variables\n",
    "openai.api_key = os.getenv('OPENAI_API_KEY')"
   ]
  },
  {
   "cell_type": "code",
   "execution_count": 89,
   "metadata": {},
   "outputs": [],
   "source": [
    "# based on job classification on jobstreet.com\n",
    "job_classification = [\n",
    "        \"accounting/finance\",\n",
    "        \"admin/human resources\",\n",
    "        \"sales/marketing\",\n",
    "        \"arts/media/communications\",\n",
    "        \"services\",\n",
    "        \"hotel/restaurant\",\n",
    "        \"education/training\",\n",
    "        \"computer/IT\",\n",
    "        \"engineering\",\n",
    "        \"manufacturing\",\n",
    "        \"building/construction\",\n",
    "        \"science\",\n",
    "        \"healthcare\"\n",
    "        ]\n",
    "\n",
    "def call_openapi(query, documents=job_classification):\n",
    "    \"\"\"\n",
    "    \n",
    "    \"\"\"\n",
    "    \n",
    "    response = openai.Engine(\"ada\").search(\n",
    "        documents = documents,\n",
    "        query=query, \n",
    "        max_rerank=5\n",
    "    )\n",
    "    \n",
    "    return response"
   ]
  },
  {
   "cell_type": "code",
   "execution_count": 90,
   "metadata": {},
   "outputs": [],
   "source": [
    "def sort_score(response,documents=job_classification):\n",
    "    \"\"\"\n",
    "    \n",
    "    \"\"\"\n",
    "    response_scores = [i.score for i in response.data]\n",
    "    zipped_list = zip(response_scores,documents)\n",
    "    sorted_zipped_lists = sorted(zipped_list,  reverse=True)\n",
    "    \n",
    "    return sorted_zipped_lists\n",
    "    "
   ]
  },
  {
   "cell_type": "code",
   "execution_count": 91,
   "metadata": {},
   "outputs": [
    {
     "data": {
      "text/plain": [
       "[(376.666, 'accounting/finance'),\n",
       " (275.004, 'admin/human resources'),\n",
       " (258.383, 'sales/marketing'),\n",
       " (183.525, 'services'),\n",
       " (158.906, 'arts/media/communications'),\n",
       " (117.86, 'computer/IT'),\n",
       " (98.463, 'manufacturing'),\n",
       " (97.143, 'healthcare'),\n",
       " (78.232, 'hotel/restaurant'),\n",
       " (68.436, 'education/training'),\n",
       " (64.225, 'engineering'),\n",
       " (46.782, 'building/construction'),\n",
       " (17.61, 'science')]"
      ]
     },
     "execution_count": 91,
     "metadata": {},
     "output_type": "execute_result"
    }
   ],
   "source": [
    "response = call_openapi('accounts exec')\n",
    "sort_score(response)"
   ]
  },
  {
   "cell_type": "code",
   "execution_count": 92,
   "metadata": {},
   "outputs": [
    {
     "data": {
      "text/plain": [
       "[(269.849, 'computer/IT'),\n",
       " (208.303, 'admin/human resources'),\n",
       " (192.24, 'accounting/finance'),\n",
       " (190.953, 'engineering'),\n",
       " (146.062, 'sales/marketing'),\n",
       " (144.302, 'services'),\n",
       " (144.278, 'manufacturing'),\n",
       " (122.694, 'arts/media/communications'),\n",
       " (112.51, 'building/construction'),\n",
       " (110.653, 'science'),\n",
       " (107.767, 'education/training'),\n",
       " (85.536, 'hotel/restaurant'),\n",
       " (84.705, 'healthcare')]"
      ]
     },
     "execution_count": 92,
     "metadata": {},
     "output_type": "execute_result"
    }
   ],
   "source": [
    "response = call_openapi('data engineer')\n",
    "sort_score(response)"
   ]
  },
  {
   "cell_type": "code",
   "execution_count": 93,
   "metadata": {},
   "outputs": [
    {
     "data": {
      "text/plain": [
       "[(197.551, 'accounting/finance'),\n",
       " (131.921, 'admin/human resources'),\n",
       " (124.071, 'sales/marketing'),\n",
       " (92.066, 'services'),\n",
       " (75.9, 'education/training'),\n",
       " (64.369, 'hotel/restaurant'),\n",
       " (61.657, 'arts/media/communications'),\n",
       " (55.53, 'healthcare'),\n",
       " (52.854, 'computer/IT'),\n",
       " (33.909, 'manufacturing'),\n",
       " (30.147, 'engineering'),\n",
       " (27.671, 'building/construction'),\n",
       " (-9.771, 'science')]"
      ]
     },
     "execution_count": 93,
     "metadata": {},
     "output_type": "execute_result"
    }
   ],
   "source": [
    "response = call_openapi('account executive (payables)')\n",
    "sort_score(response)"
   ]
  },
  {
   "cell_type": "code",
   "execution_count": 94,
   "metadata": {},
   "outputs": [
    {
     "data": {
      "text/plain": [
       "[(301.236, 'manufacturing'),\n",
       " (285.758, 'sales/marketing'),\n",
       " (193.434, 'admin/human resources'),\n",
       " (172.018, 'services'),\n",
       " (161.469, 'computer/IT'),\n",
       " (157.592, 'building/construction'),\n",
       " (130.039, 'engineering'),\n",
       " (129.051, 'accounting/finance'),\n",
       " (126.735, 'arts/media/communications'),\n",
       " (109.369, 'education/training'),\n",
       " (86.747, 'healthcare'),\n",
       " (65.644, 'science'),\n",
       " (32.299, 'hotel/restaurant')]"
      ]
     },
     "execution_count": 94,
     "metadata": {},
     "output_type": "execute_result"
    }
   ],
   "source": [
    "response = call_openapi('product specialist')\n",
    "sort_score(response)"
   ]
  },
  {
   "cell_type": "code",
   "execution_count": 95,
   "metadata": {},
   "outputs": [
    {
     "data": {
      "text/plain": [
       "[(137.883, 'science'),\n",
       " (91.284, 'admin/human resources'),\n",
       " (89.055, 'engineering'),\n",
       " (75.214, 'education/training'),\n",
       " (71.6, 'hotel/restaurant'),\n",
       " (45.075, 'arts/media/communications'),\n",
       " (43.684, 'services'),\n",
       " (39.655, 'building/construction'),\n",
       " (21.369, 'accounting/finance'),\n",
       " (19.74, 'computer/IT'),\n",
       " (18.832, 'healthcare'),\n",
       " (5.706, 'sales/marketing'),\n",
       " (-5.42, 'manufacturing')]"
      ]
     },
     "execution_count": 95,
     "metadata": {},
     "output_type": "execute_result"
    }
   ],
   "source": [
    "response = call_openapi('zoologist')\n",
    "sort_score(response)"
   ]
  },
  {
   "cell_type": "code",
   "execution_count": 100,
   "metadata": {},
   "outputs": [
    {
     "data": {
      "text/plain": [
       "[(205.218, 'services'),\n",
       " (171.878, 'hotel/restaurant'),\n",
       " (169.574, 'admin/human resources'),\n",
       " (135.838, 'education/training'),\n",
       " (116.141, 'healthcare'),\n",
       " (110.877, 'engineering'),\n",
       " (81.17, 'sales/marketing'),\n",
       " (79.758, 'building/construction'),\n",
       " (75.951, 'manufacturing'),\n",
       " (74.559, 'computer/IT'),\n",
       " (61.58, 'accounting/finance'),\n",
       " (38.159, 'arts/media/communications'),\n",
       " (34.226, 'science')]"
      ]
     },
     "execution_count": 100,
     "metadata": {},
     "output_type": "execute_result"
    }
   ],
   "source": [
    "response = call_openapi('rider')\n",
    "sort_score(response)"
   ]
  },
  {
   "cell_type": "code",
   "execution_count": null,
   "metadata": {},
   "outputs": [],
   "source": []
  }
 ],
 "metadata": {
  "kernelspec": {
   "display_name": "Python 3",
   "language": "python",
   "name": "python3"
  },
  "language_info": {
   "codemirror_mode": {
    "name": "ipython",
    "version": 3
   },
   "file_extension": ".py",
   "mimetype": "text/x-python",
   "name": "python",
   "nbconvert_exporter": "python",
   "pygments_lexer": "ipython3",
   "version": "3.7.6"
  }
 },
 "nbformat": 4,
 "nbformat_minor": 4
}
