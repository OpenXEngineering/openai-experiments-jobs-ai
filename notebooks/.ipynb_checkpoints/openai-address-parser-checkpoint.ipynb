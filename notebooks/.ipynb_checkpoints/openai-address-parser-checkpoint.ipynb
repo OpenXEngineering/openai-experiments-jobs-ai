{
 "cells": [
  {
   "cell_type": "markdown",
   "metadata": {},
   "source": [
    "### Run Setup Environment notebook first before running below cells"
   ]
  },
  {
   "cell_type": "code",
   "execution_count": 6,
   "metadata": {},
   "outputs": [
    {
     "name": "stdout",
     "output_type": "stream",
     "text": [
      "Requirement already satisfied: openai in c:\\users\\hafid\\anaconda3\\lib\\site-packages (0.6.3)\n",
      "Requirement already satisfied: requests>=2.20; python_version >= \"3.0\" in c:\\users\\hafid\\anaconda3\\lib\\site-packages (from openai) (2.22.0)\n",
      "Requirement already satisfied: tqdm in c:\\users\\hafid\\anaconda3\\lib\\site-packages (from openai) (4.42.1)\n",
      "Requirement already satisfied: chardet<3.1.0,>=3.0.2 in c:\\users\\hafid\\anaconda3\\lib\\site-packages (from requests>=2.20; python_version >= \"3.0\"->openai) (3.0.4)\n",
      "Requirement already satisfied: idna<2.9,>=2.5 in c:\\users\\hafid\\anaconda3\\lib\\site-packages (from requests>=2.20; python_version >= \"3.0\"->openai) (2.8)\n",
      "Requirement already satisfied: urllib3!=1.25.0,!=1.25.1,<1.26,>=1.21.1 in c:\\users\\hafid\\anaconda3\\lib\\site-packages (from requests>=2.20; python_version >= \"3.0\"->openai) (1.25.8)\n",
      "Requirement already satisfied: certifi>=2017.4.17 in c:\\users\\hafid\\anaconda3\\lib\\site-packages (from requests>=2.20; python_version >= \"3.0\"->openai) (2019.11.28)\n"
     ]
    }
   ],
   "source": [
    "# %run ./setup-env.ipynb"
   ]
  },
  {
   "cell_type": "code",
   "execution_count": 1,
   "metadata": {},
   "outputs": [],
   "source": [
    "# load libraries\n",
    "import os\n",
    "import openai\n",
    "\n",
    "# Define variables\n",
    "openai.api_key = os.getenv('OPENAI_API_KEY')"
   ]
  },
  {
   "cell_type": "markdown",
   "metadata": {},
   "source": [
    "### Generate product name"
   ]
  },
  {
   "cell_type": "code",
   "execution_count": 37,
   "metadata": {},
   "outputs": [],
   "source": [
    "def call_openapi(address):\n",
    "\n",
    "    response = openai.Completion.create(\n",
    "        engine=\"davinci\",\n",
    "        prompt=\"\"\"\n",
    "        This is a Malaysia address parser.\n",
    "\n",
    "        Original address: '6 Jalan Usj4/9D 47610 Subang Jaya'\n",
    "        Unit: '6'\n",
    "        Building Name: ''\n",
    "        Route: 'Jalan USJ 4/9D'\n",
    "        Taman: ''\n",
    "        Postcode: '47600'\n",
    "        City: 'Subang Jaya'\n",
    "        State: 'Selangor'\n",
    "\n",
    "        ###\n",
    "\n",
    "        Original address: '6 Jln USJ 4/9D 47610 Subang Jaya Selangor Darul Ehsan'\n",
    "        Unit: '6'\n",
    "        Building Name: ''\n",
    "        Route: 'Jalan USJ 4/9D'\n",
    "        Taman: ''\n",
    "        Postcode: '47600'\n",
    "        City: 'Subang Jaya'\n",
    "        State: 'Selangor'\n",
    "\n",
    "        ###\n",
    "\n",
    "        Original address: '6 Jalan USJ 4/9D UEP Subang Jaya, 47600 '\n",
    "        Unit: '6'\n",
    "        Building Name: ''\n",
    "        Route: 'Jalan USJ 4/9D'\n",
    "        Taman: ''\n",
    "        Postcode: '47600'\n",
    "        City: 'Subang Jaya'\n",
    "        State: 'Selangor'\n",
    "\n",
    "        ###\n",
    "\n",
    "        Original address: '8, Jln 5/58C, Gasing INdah, Petaling Jaya, Selanogr'\n",
    "        Unit: '8'\n",
    "        Building Name: ''\n",
    "        Route: 'Jalan 5/58C'\n",
    "        Taman: 'Gasing Indah'\n",
    "        Postcode: '46000'\n",
    "        City: 'Subang Jaya'\n",
    "        State: 'Selangor'\n",
    "\n",
    "        ###\n",
    "\n",
    "        Original address: 'NO 8, JALAN 5/58C, SEKSYEN 5, PETALING JAYA, SELANGOR'\n",
    "        Unit: '8'\n",
    "        Building Name: ''\n",
    "        Route: 'Jalan 5/58C'\n",
    "        Taman: 'Gasing Indah'\n",
    "        Postcode: '46000'\n",
    "        City: 'Petaling Jaya'\n",
    "        State: 'Selangor'\n",
    "\n",
    "        ###\n",
    "\n",
    "        Original address: '8, Jln 5/58C, Gasing INdah, Petaling Jaya, Selanogr'\n",
    "        Unit: '8'\n",
    "        Building Name: ''\n",
    "        Route: 'Jalan 5/58C'\n",
    "        Taman: 'Gasing Indah'\n",
    "        Postcode: '46000'\n",
    "        City: 'Petaling Jaya'\n",
    "        State: 'Selangor'\n",
    "\n",
    "        ###\n",
    "\n",
    "        Original address: 'Block 1, Level 9, Unit 1, Apartment Residensi Alami, Jalan TInju 13/50, 40000 Shah Alam'\n",
    "        Unit: '1-9-1'\n",
    "        Building Name: 'Residensi Alami'\n",
    "        Route: 'Jalan Tinju 13/50'\n",
    "        Taman: 'Seksyen 13'\n",
    "        Postcode: '40100'\n",
    "        City: 'Shah Alam'\n",
    "        State: 'Selangor'\n",
    "\n",
    "        ###\n",
    "\n",
    "        Original address: '1-09-01, Residensi Alami, Jalan Tinju 13/50, 40100, SHah Alam Selangor'\n",
    "        Unit: '1-9-1'\n",
    "        Building Name: 'Residensi Alami'\n",
    "        Route: 'Jalan Tinju 13/50'\n",
    "        Taman: 'Seksyen 13'\n",
    "        Postcode: '40100'\n",
    "        City: 'Shah Alam'\n",
    "        State: 'Selangor'\n",
    "\n",
    "        ###\n",
    "        \n",
    "        Original address: '{address}'\"\"\".format(address=address),\n",
    "        temperature=0.2,\n",
    "        max_tokens=200,\n",
    "        top_p=1.0,\n",
    "        frequency_penalty=0.0,\n",
    "        presence_penalty=0.0,\n",
    "        stop=[\"###\"]\n",
    "    )\n",
    "\n",
    "    return response\n",
    "\n",
    "def extract_ans(response):\n",
    "    return print(response.choices[0].text)"
   ]
  },
  {
   "cell_type": "code",
   "execution_count": 38,
   "metadata": {},
   "outputs": [
    {
     "name": "stdout",
     "output_type": "stream",
     "text": [
      "\n",
      "        Unit: '6'\n",
      "        Building Name: ''\n",
      "        Route: 'Jalan USJ 4/9D'\n",
      "        Taman: ''\n",
      "        Postcode: '47600'\n",
      "        City: 'Subang Jaya'\n",
      "        State: 'Selangor'\n",
      "\n",
      "        \n"
     ]
    }
   ],
   "source": [
    "response = call_openapi('6, Jalan USJ 4/9D, 47610 Subang Jaya, Selangor')\n",
    "extract_ans(response)"
   ]
  },
  {
   "cell_type": "code",
   "execution_count": 39,
   "metadata": {},
   "outputs": [
    {
     "name": "stdout",
     "output_type": "stream",
     "text": [
      "\n",
      "        Unit: '6'\n",
      "        Building Name: ''\n",
      "        Route: 'Jalan USJ 4/9D'\n",
      "        Taman: ''\n",
      "        Postcode: '47600'\n",
      "        City: 'Subang Jaya'\n",
      "        State: 'Selangor'\n",
      "\n",
      "        \n"
     ]
    }
   ],
   "source": [
    "response = call_openapi('NO 6 JALAN USJ4/9D 47600 Subang Jaya')\n",
    "extract_ans(response)"
   ]
  },
  {
   "cell_type": "code",
   "execution_count": 40,
   "metadata": {},
   "outputs": [
    {
     "name": "stdout",
     "output_type": "stream",
     "text": [
      "\n",
      "        Unit: '6'\n",
      "        Building Name: ''\n",
      "        Route: 'Jalan USJ 4/9D'\n",
      "        Taman: ''\n",
      "        Postcode: '47600'\n",
      "        City: 'Subang Jaya'\n",
      "        State: 'Selangor'\n",
      "\n",
      "        \n"
     ]
    }
   ],
   "source": [
    "response = call_openapi('6 Jalan USJ4/9D, 47600 Subang Jaya Selagor')\n",
    "extract_ans(response)"
   ]
  },
  {
   "cell_type": "code",
   "execution_count": 41,
   "metadata": {},
   "outputs": [
    {
     "name": "stdout",
     "output_type": "stream",
     "text": [
      "\n",
      "        Unit: '8'\n",
      "        Building Name: ''\n",
      "        Route: 'Jalan 5/58C'\n",
      "        Taman: 'Gasing Indah'\n",
      "        Postcode: '46000'\n",
      "        City: 'Petaling Jaya'\n",
      "        State: 'Selangor'\n",
      "\n",
      "        \n"
     ]
    }
   ],
   "source": [
    "response = call_openapi('No 8, Jalan 5/58c, 46000 PJ, Selangor')\n",
    "extract_ans(response)"
   ]
  },
  {
   "cell_type": "code",
   "execution_count": 42,
   "metadata": {},
   "outputs": [
    {
     "name": "stdout",
     "output_type": "stream",
     "text": [
      "\n",
      "        Unit: '8'\n",
      "        Building Name: ''\n",
      "        Route: 'Jalan 5/58C'\n",
      "        Taman: 'Gasing Indah'\n",
      "        Postcode: '46000'\n",
      "        City: 'Petaling Jaya'\n",
      "        State: 'Selangor'\n",
      "\n",
      "        \n"
     ]
    }
   ],
   "source": [
    "response = call_openapi('8 Jalan 5/58C Taman Gasing Indah Petaling, Selangor')\n",
    "extract_ans(response)"
   ]
  },
  {
   "cell_type": "code",
   "execution_count": 43,
   "metadata": {},
   "outputs": [
    {
     "name": "stdout",
     "output_type": "stream",
     "text": [
      "\n",
      "        Unit: '8'\n",
      "        Building Name: ''\n",
      "        Route: 'Jalan 5/58C'\n",
      "        Taman: 'Gasing Indah'\n",
      "        Postcode: '46000'\n",
      "        City: 'Petaling Jaya'\n",
      "        State: 'Selangor'\n",
      "\n",
      "        \n"
     ]
    }
   ],
   "source": [
    "response = call_openapi('8, Jalan 5/58C, 46000 Gasing Indah, PJ, Selangor')\n",
    "extract_ans(response)"
   ]
  },
  {
   "cell_type": "code",
   "execution_count": 44,
   "metadata": {},
   "outputs": [
    {
     "name": "stdout",
     "output_type": "stream",
     "text": [
      "\n",
      "        Unit: '1-9-1'\n",
      "         Building Name: 'Residensi Alami'\n",
      "         Route: 'Jalan Tinju 13/50'\n",
      "         Taman: 'Seksyen 13'\n",
      "         Postcode: '40100'\n",
      "         City: 'Shah Alam'\n",
      "         State: 'Selangor'\n",
      "\n",
      "        \n"
     ]
    }
   ],
   "source": [
    "response = call_openapi('1-9-1, Residensi Alami, Jalan Tinju 13/50, Seksyen 13, Shah Alam')\n",
    "extract_ans(response)"
   ]
  },
  {
   "cell_type": "code",
   "execution_count": 45,
   "metadata": {},
   "outputs": [
    {
     "name": "stdout",
     "output_type": "stream",
     "text": [
      "\n",
      "        Unit: '1-9-1'\n",
      "        Building Name: 'Residensi Alami'\n",
      "        Route: 'Jalan Tinju 13/50'\n",
      "        Taman: 'Seksyen 13'\n",
      "        Postcode: '40100'\n",
      "        City: 'Shah Alam'\n",
      "        State: 'Selangor'\n",
      "\n",
      "        \n"
     ]
    }
   ],
   "source": [
    "response = call_openapi('Blok 1, Level 9, Unit 1, Residensi Alami, Jalan Tinju 13/50, 40100 Shah Alam, Selangor')\n",
    "extract_ans(response)"
   ]
  },
  {
   "cell_type": "code",
   "execution_count": 46,
   "metadata": {},
   "outputs": [
    {
     "name": "stdout",
     "output_type": "stream",
     "text": [
      "\n",
      "        Unit: '1-2-4'\n",
      "        Building Name: 'Residensi Alami'\n",
      "        Route: 'Jalan Tinju 13/50'\n",
      "        Taman: 'Seksyen 13'\n",
      "        Postcode: '40100'\n",
      "        City: 'Shah Alam'\n",
      "        State: 'Selangor'\n",
      "\n",
      "        \n"
     ]
    }
   ],
   "source": [
    "response = call_openapi('1, Level 2, Unit 4, Residensi Alami, Jalan Tinju 13/50, 40100 Shah Alam, Selangor')\n",
    "extract_ans(response)"
   ]
  },
  {
   "cell_type": "code",
   "execution_count": 47,
   "metadata": {},
   "outputs": [
    {
     "name": "stdout",
     "output_type": "stream",
     "text": [
      "\n",
      "        Unit: '1-2-4'\n",
      "        Building Name: 'Mercu Summer Suites'\n",
      "        Route: 'Jalan Sultan Ismail'\n",
      "        Taman: 'Seksyen 5'\n",
      "        Postcode: '50000'\n",
      "        City: 'Kuala Lumpur'\n",
      "        State: 'Kuala Lumpur'\n",
      "\n",
      "        \n"
     ]
    }
   ],
   "source": [
    "response = call_openapi('1, Level 2, Unit 4, Mercu Summer Suites, Jalan Sultan Ismail, 50100 KL, Kuala Lumpur')\n",
    "extract_ans(response)"
   ]
  },
  {
   "cell_type": "code",
   "execution_count": 53,
   "metadata": {},
   "outputs": [
    {
     "name": "stdout",
     "output_type": "stream",
     "text": [
      "\n",
      "        Unit: '2-6'\n",
      "        Building Name: 'Mercu Summer Suites'\n",
      "        Route: 'Jalan Sultan Ismail'\n",
      "        Taman: 'Seksyen 5'\n",
      "        Postcode: '50000'\n",
      "        City: 'Kuala Lumpur'\n",
      "        State: 'Kuala Lumpur'\n",
      "\n",
      "        \n"
     ]
    }
   ],
   "source": [
    "response = call_openapi('2, Level 2, Unit 6, Mercu Summer Suites, Jalan Sultan Ismail, 50100 KL, Kuala Lumpur')\n",
    "extract_ans(response)"
   ]
  },
  {
   "cell_type": "code",
   "execution_count": null,
   "metadata": {},
   "outputs": [],
   "source": []
  }
 ],
 "metadata": {
  "kernelspec": {
   "display_name": "Python 3",
   "language": "python",
   "name": "python3"
  },
  "language_info": {
   "codemirror_mode": {
    "name": "ipython",
    "version": 3
   },
   "file_extension": ".py",
   "mimetype": "text/x-python",
   "name": "python",
   "nbconvert_exporter": "python",
   "pygments_lexer": "ipython3",
   "version": "3.7.6"
  }
 },
 "nbformat": 4,
 "nbformat_minor": 4
}
