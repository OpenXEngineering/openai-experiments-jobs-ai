{
 "cells": [
  {
   "cell_type": "code",
   "execution_count": 1,
   "metadata": {},
   "outputs": [
    {
     "name": "stdout",
     "output_type": "stream",
     "text": [
      "Requirement already satisfied: openai in c:\\users\\hafid\\anaconda3\\lib\\site-packages (0.6.3)\n",
      "Requirement already satisfied: tqdm in c:\\users\\hafid\\anaconda3\\lib\\site-packages (from openai) (4.42.1)\n",
      "Requirement already satisfied: requests>=2.20; python_version >= \"3.0\" in c:\\users\\hafid\\anaconda3\\lib\\site-packages (from openai) (2.22.0)\n",
      "Requirement already satisfied: chardet<3.1.0,>=3.0.2 in c:\\users\\hafid\\anaconda3\\lib\\site-packages (from requests>=2.20; python_version >= \"3.0\"->openai) (3.0.4)\n",
      "Requirement already satisfied: urllib3!=1.25.0,!=1.25.1,<1.26,>=1.21.1 in c:\\users\\hafid\\anaconda3\\lib\\site-packages (from requests>=2.20; python_version >= \"3.0\"->openai) (1.25.8)\n",
      "Requirement already satisfied: certifi>=2017.4.17 in c:\\users\\hafid\\anaconda3\\lib\\site-packages (from requests>=2.20; python_version >= \"3.0\"->openai) (2019.11.28)\n",
      "Requirement already satisfied: idna<2.9,>=2.5 in c:\\users\\hafid\\anaconda3\\lib\\site-packages (from requests>=2.20; python_version >= \"3.0\"->openai) (2.8)\n"
     ]
    }
   ],
   "source": [
    "%run ./setup-env.ipynb"
   ]
  },
  {
   "cell_type": "code",
   "execution_count": 2,
   "metadata": {},
   "outputs": [],
   "source": [
    "# load libraries\n",
    "import os\n",
    "import openai\n",
    "\n",
    "# Define variables\n",
    "openai.api_key = os.getenv('OPENAI_API_KEY')"
   ]
  },
  {
   "cell_type": "code",
   "execution_count": 19,
   "metadata": {},
   "outputs": [],
   "source": [
    "def call_openapi(title, desc):\n",
    "    response = openai.Completion.create(\n",
    "      engine=\"davinci\",\n",
    "      prompt=\"\"\"This is a job specialization classifier\n",
    "      \n",
    "                Job title: Account Executive\n",
    "                Job description: Handle full set of accounts.\\n\n",
    "                                Familiar with Income Tax filing.\\n\n",
    "                                Maintain daily cash flow and reporting.\\n\n",
    "                                Prepare monthly and annual financial reports.\\n\n",
    "                                Maintain proper records of all accounting transactions.\\n\n",
    "                                Perform general administrative and other accounting duties from time to time.\n",
    "                Job specialization: Accounting/Finance\n",
    "                ###\n",
    "                Job title: Senior Accounts Executive\n",
    "                Job description: To handle a full set of Accounts.\\n\n",
    "                                To be responsible for monthly closing of accounts with relevant supporting schedules in an accurate and timely manner.\\n\n",
    "                                Preparation of any financial ad-hoc reports.\\n\n",
    "                                Reviewing all invoices and payment instructions and preparing creditors’ payment for payment processing.\\n\n",
    "                                To prepare invoices for approval by the relevant Head of Department.\\n\n",
    "                                To ensure that the Account Payable records are updated accurately and timely for management reporting purposes.\\n\n",
    "                                To review and process staff claims.\\n\n",
    "                                Liaison with Auditors, Company Secretary, Tax Agent and Bank Officers\n",
    "                Job specialization: Accounting/Finance\n",
    "                ###\n",
    "                Job title: Account Executive\n",
    "                Job description: Compiling and analyzing data to find trends.\\n\n",
    "                                Developing sales strategies and setting quotas.\\n\n",
    "                                Staying current on company offerings and industry trends.\\n\n",
    "                                Maintaining a database of contact information.\\n\n",
    "                                Building long-lasting, mutually beneficial relationships with external contacts and internal departments to create a better customer experience.\n",
    "                Job specialization: Sales/Marketing\n",
    "                ###\n",
    "                Job title: Sales Consultant (General)\n",
    "                Job description: Develop and formulate strategic and tactical plans in a sizeable market portfolio. Ensure KPI and goals of the assigned accounts are met.\\n\n",
    "                            Build market position by identifying potential business deals and close relationship with existing and new customers;\\n\n",
    "                            Develop and formulate strategies to acquire new business.\\n\n",
    "                            Provide and screen data/information for potential business deals by analysing market strategy, examining risks and financial accuracy for business decision making;\\n\n",
    "                            Grow account depth and breadth\\n\n",
    "                            Develop Account plans for all KPI customers.\\n\n",
    "                            Accountable on driving every opportunity to closure with a close plan.\\n\n",
    "                            Keeping track of all post sales activities with daily sales report.\n",
    "                Job specialization: Sales/Marketing\n",
    "                ###\n",
    "                Job title: {job_title}\n",
    "                Job description: {job_desc}\n",
    "                Job specialization:\"\"\".format(job_title=job_title, job_desc=job_desc),\n",
    "       temperature=0.3,\n",
    "      max_tokens=60,\n",
    "      top_p=1.0,\n",
    "      frequency_penalty=0.0,\n",
    "      presence_penalty=0.0,\n",
    "      stop=[\"###\"]\n",
    "    )\n",
    "    \n",
    "    return response"
   ]
  },
  {
   "cell_type": "code",
   "execution_count": 20,
   "metadata": {},
   "outputs": [
    {
     "data": {
      "text/plain": [
       "<OpenAIObject text_completion id=cmpl-2zkcPlnZmsK8H4brislM7flGeozYq at 0x1ccade43e28> JSON: {\n",
       "  \"choices\": [\n",
       "    {\n",
       "      \"finish_reason\": \"stop\",\n",
       "      \"index\": 0,\n",
       "      \"logprobs\": null,\n",
       "      \"text\": \" Sales/Marketing\\n                \"\n",
       "    }\n",
       "  ],\n",
       "  \"created\": 1621069885,\n",
       "  \"id\": \"cmpl-2zkcPlnZmsK8H4brislM7flGeozYq\",\n",
       "  \"model\": \"davinci:2020-05-03\",\n",
       "  \"object\": \"text_completion\"\n",
       "}"
      ]
     },
     "execution_count": 20,
     "metadata": {},
     "output_type": "execute_result"
    }
   ],
   "source": [
    "job_title = \"\"\"Account Manager 3, Inside Sales\"\"\"\n",
    "job_desc = \"\"\"Drive attainment of sales revenue and margin, as well as sales activities metrics\\n\n",
    "Responsible for ensuring daily and weekly update of the outlook plan, sales funnel, and call plan.\\n\n",
    "Develop & maintain good business relationship with assigned customers and Dell distributors to enhance positive customer experience\\n\n",
    "Work closely with outside sales representative & distributors to acquire new opportunities, and to develop and retain existing customers by providing solutions to yield win-win results for Dell, distributor & customer.\\n\n",
    "To make Power Hour calls to customer at all time during scheduled call period\\n\n",
    "To ensure timely distribution and accurate quotations, qualify opportunity, upsell/cross-sell and follow-up to close deals.\\n\n",
    "Able to present the Dell model, value and benefits to the customers & distributors.\\n\n",
    "Conduct regular business reviews with customer & distributor to assist make accurate funnel, forecasting decisions & recovery plan.\"\"\"\n",
    "call_openapi(job_title,job_desc)"
   ]
  },
  {
   "cell_type": "code",
   "execution_count": 7,
   "metadata": {},
   "outputs": [
    {
     "data": {
      "text/plain": [
       "<OpenAIObject text_completion id=cmpl-2zkJh6bendXCKQ4THxtW7m4huSSWC at 0x1ccae5b1d68> JSON: {\n",
       "  \"choices\": [\n",
       "    {\n",
       "      \"finish_reason\": \"stop\",\n",
       "      \"index\": 0,\n",
       "      \"logprobs\": null,\n",
       "      \"text\": \" Accounting/Finance\\n               \"\n",
       "    }\n",
       "  ],\n",
       "  \"created\": 1621068725,\n",
       "  \"id\": \"cmpl-2zkJh6bendXCKQ4THxtW7m4huSSWC\",\n",
       "  \"model\": \"davinci:2020-05-03\",\n",
       "  \"object\": \"text_completion\"\n",
       "}"
      ]
     },
     "execution_count": 7,
     "metadata": {},
     "output_type": "execute_result"
    }
   ],
   "source": [
    "job_title = \"\"\"Collection Executive (KL)\"\"\"\n",
    "job_desc = \"\"\"Manage collection, recovery of overdue loans, installments account to meet set targets; contact and obtain payment from delinquent account.\\n\n",
    "Meeting with agents for collection action plan/ delivered monthly defaulting listing and status to respective agency's PIC.\\n\n",
    "Generate various Credit Control Reports timely and accurately.\\n\n",
    "Assist to supervise and track default accounts movement and regular feedback to branches and management.\\n\n",
    "Assist to review and analyze branches collections performance.\\n\n",
    "Assist to provide timely value-added information enable management decision making on credit matters.\\n\n",
    "Assist to review and improve receivables collection system, methods and resources to yield optimum efficiency and productivity.\"\"\"\n",
    "call_openapi(job_title,job_desc)"
   ]
  },
  {
   "cell_type": "code",
   "execution_count": 8,
   "metadata": {},
   "outputs": [
    {
     "data": {
      "text/plain": [
       "<OpenAIObject text_completion id=cmpl-2zkNO6NPG96fXpcKSYYWZdexYwak3 at 0x1ccade433a8> JSON: {\n",
       "  \"choices\": [\n",
       "    {\n",
       "      \"finish_reason\": \"stop\",\n",
       "      \"index\": 0,\n",
       "      \"logprobs\": null,\n",
       "      \"text\": \" Creative/Design/Production\\n               \"\n",
       "    }\n",
       "  ],\n",
       "  \"created\": 1621068954,\n",
       "  \"id\": \"cmpl-2zkNO6NPG96fXpcKSYYWZdexYwak3\",\n",
       "  \"model\": \"davinci:2020-05-03\",\n",
       "  \"object\": \"text_completion\"\n",
       "}"
      ]
     },
     "execution_count": 8,
     "metadata": {},
     "output_type": "execute_result"
    }
   ],
   "source": [
    "# art/media/communication\n",
    "job_title = \"Account Servicing Executives\"\n",
    "job_desc = \"\"\"Project management skill is a must, and the ability to foster the mutual happiness of client and agency lies in successfully bridging the divide between what they want and what we can deliver. You play a role as the chief coordinator between the Clients and our Creative Design and Production team from job initiation, conceptualization, presentation, project costing quotation, review and approval procurement, production timeline management and after sale follow up. Do visit our website www.altad.my to see what we do!\"\"\"\n",
    "call_openapi(job_title,job_desc)"
   ]
  },
  {
   "cell_type": "code",
   "execution_count": 10,
   "metadata": {},
   "outputs": [
    {
     "data": {
      "text/plain": [
       "<OpenAIObject text_completion id=cmpl-2zkQ35qZ7kBmhYoAiEUOisxs5915d at 0x1ccae5b1ac8> JSON: {\n",
       "  \"choices\": [\n",
       "    {\n",
       "      \"finish_reason\": \"stop\",\n",
       "      \"index\": 0,\n",
       "      \"logprobs\": null,\n",
       "      \"text\": \" Sales/Marketing\\n               \"\n",
       "    }\n",
       "  ],\n",
       "  \"created\": 1621069119,\n",
       "  \"id\": \"cmpl-2zkQ35qZ7kBmhYoAiEUOisxs5915d\",\n",
       "  \"model\": \"davinci:2020-05-03\",\n",
       "  \"object\": \"text_completion\"\n",
       "}"
      ]
     },
     "execution_count": 10,
     "metadata": {},
     "output_type": "execute_result"
    }
   ],
   "source": [
    "# art/media/communication\n",
    "job_title = 'Sales Executive'\n",
    "job_desc = \"\"\"Meeting and liaising with clients to discuss and identify their point of sales material / In store Display requirements.\\n\n",
    "Going to outlets to measure display size for production.\\n\n",
    "Working with designers to create artworks that meet clients brief\\n\n",
    "Presenting creative artwork and color proof for clients approval\\n\n",
    "Issue accurate Job sheet for production team.\\n\n",
    "Liaising with production team ensuring that information flows effectively & accurately\\n\n",
    "Add value to the current system to better company efficiency\\n\n",
    "Ensuring that production datelines are met\\n\n",
    "Business Development & Opening New Clientele Account.\"\"\"\n",
    "call_openapi(job_title,job_desc)"
   ]
  },
  {
   "cell_type": "code",
   "execution_count": 11,
   "metadata": {},
   "outputs": [
    {
     "data": {
      "text/plain": [
       "<OpenAIObject text_completion id=cmpl-2zkS5XMZHQRiIkYOU7OStxQtNGagC at 0x1ccade437c8> JSON: {\n",
       "  \"choices\": [\n",
       "    {\n",
       "      \"finish_reason\": \"length\",\n",
       "      \"index\": 0,\n",
       "      \"logprobs\": null,\n",
       "      \"text\": \" Engineering/Construction\\n\\nThe following are the job specialization of the job title:\\n\\nEngineer\\n\\nEngineer (Mechanical)\\n\\nEngineer (Electrical)\\n\\nEngineer (Civil)\\n\\nEngineer (Chemical)\\n\\nEngineer (Instrumentation)\"\n",
       "    }\n",
       "  ],\n",
       "  \"created\": 1621069245,\n",
       "  \"id\": \"cmpl-2zkS5XMZHQRiIkYOU7OStxQtNGagC\",\n",
       "  \"model\": \"davinci:2020-05-03\",\n",
       "  \"object\": \"text_completion\"\n",
       "}"
      ]
     },
     "execution_count": 11,
     "metadata": {},
     "output_type": "execute_result"
    }
   ],
   "source": [
    "#engineering\n",
    "job_title=\"Engineer\"\n",
    "job_desc=\"\"\"Support the planning, manufacturing and installation of our plant & project operation\\n\n",
    "Co-ordinate with various departments like Engineering, Procurement, Contract, Quality and Account\\n\n",
    "Collective periodic updates and prepare daily, weekly and monthly updates of the projects\\n\n",
    "Analytical, strong leadership qualities with good interpersonal skills will be a plus\"\"\"\n",
    "call_openapi(job_title,job_desc)"
   ]
  },
  {
   "cell_type": "code",
   "execution_count": 23,
   "metadata": {},
   "outputs": [
    {
     "data": {
      "text/plain": [
       "<OpenAIObject text_completion id=cmpl-2zsiBGbBx7sRYTzYP8Aj5b5Mmu42s at 0x1ccae494ca8> JSON: {\n",
       "  \"choices\": [\n",
       "    {\n",
       "      \"finish_reason\": \"stop\",\n",
       "      \"index\": 0,\n",
       "      \"logprobs\": null,\n",
       "      \"text\": \" Sales/Marketing\\n               \"\n",
       "    }\n",
       "  ],\n",
       "  \"created\": 1621100995,\n",
       "  \"id\": \"cmpl-2zsiBGbBx7sRYTzYP8Aj5b5Mmu42s\",\n",
       "  \"model\": \"davinci:2020-05-03\",\n",
       "  \"object\": \"text_completion\"\n",
       "}"
      ]
     },
     "execution_count": 23,
     "metadata": {},
     "output_type": "execute_result"
    }
   ],
   "source": [
    "#engineering\n",
    "job_title=\"Hari Raya – Rider Kasual (Pandu Lalu Petronas USJ 1)\"\n",
    "job_desc=\"\"\"Menghantar produk kepada para pelanggan dalam masa yang ditetapkan dengan cara yang profesional.\n",
    "Mengekalkan etika jalan raya yang baik kepada pengguna jalan raya yang lain.\n",
    "Menghasilkan layanan yang pantas dan mesra.\"\"\"\n",
    "call_openapi(job_title,job_desc)"
   ]
  },
  {
   "cell_type": "code",
   "execution_count": null,
   "metadata": {},
   "outputs": [],
   "source": []
  }
 ],
 "metadata": {
  "kernelspec": {
   "display_name": "Python 3",
   "language": "python",
   "name": "python3"
  },
  "language_info": {
   "codemirror_mode": {
    "name": "ipython",
    "version": 3
   },
   "file_extension": ".py",
   "mimetype": "text/x-python",
   "name": "python",
   "nbconvert_exporter": "python",
   "pygments_lexer": "ipython3",
   "version": "3.7.6"
  }
 },
 "nbformat": 4,
 "nbformat_minor": 4
}
