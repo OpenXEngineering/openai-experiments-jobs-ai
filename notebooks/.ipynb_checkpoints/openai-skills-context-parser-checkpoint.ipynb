{
 "cells": [
  {
   "cell_type": "code",
   "execution_count": 6,
   "metadata": {},
   "outputs": [
    {
     "name": "stdout",
     "output_type": "stream",
     "text": [
      "Requirement already satisfied: openai in c:\\users\\hafid\\anaconda3\\lib\\site-packages (0.6.3)\n",
      "Requirement already satisfied: requests>=2.20; python_version >= \"3.0\" in c:\\users\\hafid\\anaconda3\\lib\\site-packages (from openai) (2.22.0)\n",
      "Requirement already satisfied: tqdm in c:\\users\\hafid\\anaconda3\\lib\\site-packages (from openai) (4.42.1)\n",
      "Requirement already satisfied: certifi>=2017.4.17 in c:\\users\\hafid\\anaconda3\\lib\\site-packages (from requests>=2.20; python_version >= \"3.0\"->openai) (2019.11.28)\n",
      "Requirement already satisfied: chardet<3.1.0,>=3.0.2 in c:\\users\\hafid\\anaconda3\\lib\\site-packages (from requests>=2.20; python_version >= \"3.0\"->openai) (3.0.4)\n",
      "Requirement already satisfied: idna<2.9,>=2.5 in c:\\users\\hafid\\anaconda3\\lib\\site-packages (from requests>=2.20; python_version >= \"3.0\"->openai) (2.8)\n",
      "Requirement already satisfied: urllib3!=1.25.0,!=1.25.1,<1.26,>=1.21.1 in c:\\users\\hafid\\anaconda3\\lib\\site-packages (from requests>=2.20; python_version >= \"3.0\"->openai) (1.25.8)\n"
     ]
    }
   ],
   "source": [
    "%run ./setup-env.ipynb"
   ]
  },
  {
   "cell_type": "code",
   "execution_count": 7,
   "metadata": {},
   "outputs": [],
   "source": [
    "# load libraries\n",
    "import os\n",
    "import openai\n",
    "\n",
    "# Define variables\n",
    "openai.api_key = os.getenv('OPENAI_API_KEY')"
   ]
  },
  {
   "cell_type": "markdown",
   "metadata": {},
   "source": [
    "### Define call to API and its prompt"
   ]
  },
  {
   "cell_type": "code",
   "execution_count": 15,
   "metadata": {},
   "outputs": [],
   "source": [
    "resume_1 = \"\"\"\n",
    "QUALIFICATIONS\n",
    "Highly motivated, customer focused professional with extensive experience in key client development and\n",
    "retention. Skilled in creating and growing solid customer relationships, needs analysis, and account activity\n",
    "tracking.\n",
    "EXPERIENCE\n",
    "EXPERIAN CORP 1998-2007\n",
    "Account Manager – Costa Mesa / Sacramento, CA 2002-2007\n",
    "Primary customer contact for the nation's largest collector and provider of real estate focused public record data.\n",
    "Industries serviced: Lending, Title, Investor and Government. Territory – AL, LA, MS, OK, TX\n",
    "• Developed comprehensive account plan for designated key accounts that included account set up and ongoing customer support and training on data, software, and custom solutions resulting in the discovery of\n",
    "major up-sell opportunities.\n",
    "• Supervised and analyzed account activity and delinquent reports at account level resulting in fewer billing\n",
    "and payment errors and shortened delinquent cycle.\n",
    "• Created client tracking system that allowed sales team to analyze ongoing customer revenue and usage.\n",
    "• Increased revenue retention by enhancing and aggressively pursuing integrated customer relationships\n",
    "resulting in decreased customer cancellation requests.\n",
    "• Presented comprehensive seminar to nationwide sales team on building client relationships.\n",
    "• Identified and pursued new sales opportunities as well as current customer up-sell potential resulting in\n",
    "significant new and add-on business for region and award for Top Territory Growth for 2004.\n",
    "Account Associate/Trainer – Sacramento, CA 1998-2002\n",
    "Partnered with 7 sales representatives to provide pre and post sales customer service, training, and add-on sales\n",
    "to real estate-related companies. Territory – Southern California\n",
    "• Facilitated seminar training using presentation and training skills to all levels of users for real property\n",
    "database software resulting in an expansion of customer product usage.\n",
    "• Provided on-site training and software installation support to key account customers.\n",
    "• Developed and improved on-site and web-based training programs for newly launched product that resulted\n",
    "in 96% customer retention.\n",
    "• Coordinated and conducted sales seminar introducing new product line to additional market segments.\n",
    "CANON, INC 1995-1998\n",
    "Customer Service Representative – Sacramento, CA\n",
    "Provided end-user pre and post sales support for computer peripheral products.\n",
    "• Resolved technical issues for printers, scanners, and mobile computing units resulting in increased\n",
    "customer satisfaction.\n",
    "• Educated customers on computer related products using extensive product and industry knowledge to\n",
    "create a more knowledgeable client base.\n",
    "• Generated accessory sales to end-users achieving monthly sales averages of 133% of target.\n",
    "\"\"\"\n",
    "\n",
    "extract_1 = \"\"\"\n",
    "create customer relationship,\n",
    "analyze data,\n",
    "track account activity,\n",
    "develop account plan, \n",
    "analyze account activity,\n",
    "increase revenue retention,\n",
    "generate sales opportunity,\n",
    "build client relationship,\n",
    "facilitate training,\n",
    "provide onsite software support,\n",
    "resolve technical issues\n",
    "\"\"\"\n",
    "\n",
    "resume_2 = \"\"\"\n",
    "Profile\n",
    "Certified Python Developer offering 3 years of extensive experience and exceptional analytical and critical thinking skills. The Employee of the Year Award winner with a pro-active approach, great work ethic, and the important ability to function well in fast-paced and deadline-driven team environments.\n",
    "\n",
    "Work experience\n",
    "06/2017 - 06/2020, Python Developer, LUT Digital, Inc., Pasadena, CA, United States\n",
    "Developed web application back end components and communicated with clients to identify their needs and goals.\n",
    "Worked on the improvement of data protection and security and created new user information solutions.\n",
    "Maintained large databases, configured serves, and collaborated with colleagues on the reduction of software maintenance expenses - decreased the costs by 15% within just one year.\n",
    "Trained and supervised new employees and provided technical support to clients and coworkers.\n",
    "The Employee of the Year Award winner for meeting and exceeding all assigned goals and objectives.\n",
    "\"\"\"\n",
    "\n",
    "extract_2 = \"\"\"\n",
    "develop web application\n",
    "communicate with clients\n",
    "improve data protection and security\n",
    "maintain back end services\n",
    "reduce operational expenses\n",
    "train and supervise new employees\n",
    "provide technical support\n",
    "\"\"\""
   ]
  },
  {
   "cell_type": "code",
   "execution_count": 34,
   "metadata": {},
   "outputs": [],
   "source": [
    "def get_skills_context(resume):\n",
    "    \"\"\"\n",
    "    \n",
    "    \"\"\"\n",
    "    \n",
    "    response = openai.Completion.create(\n",
    "    engine=\"davinci\",\n",
    "    prompt=\"\"\"This is a resume parser that extracts skills context from resume.\n",
    "      \n",
    "                resume: {resume1}\n",
    "                parsed_contextual_skills: {extract1}\n",
    "                \n",
    "                ###\n",
    "                \n",
    "                resume: {resume2}\n",
    "                parsed_contextual_skills: {extract2}\n",
    "                \n",
    "                ###\n",
    "                \n",
    "                resume: {resume3}\n",
    "                parsed_contextual_skills: \"\"\".format(resume1 = resume_1, \n",
    "                                              extract1 = extract_1,\n",
    "                                              resume2 = resume_2,\n",
    "                                              extract2 = extract_2,\n",
    "                                              resume3 = resume),\n",
    "    temperature=0.2,\n",
    "    max_tokens=60,\n",
    "    top_p=1.0,\n",
    "    frequency_penalty=0.0,\n",
    "    presence_penalty=0.0,\n",
    "    stop=[\"###\"]\n",
    "    )\n",
    "    \n",
    "    return response\n",
    "\n",
    "\n",
    "def extract_ans(response):\n",
    "    return print(response.choices[0].text)"
   ]
  },
  {
   "cell_type": "markdown",
   "metadata": {},
   "source": [
    "### Inference"
   ]
  },
  {
   "cell_type": "code",
   "execution_count": 32,
   "metadata": {},
   "outputs": [],
   "source": [
    "resume = \"\"\"\n",
    "Profile\n",
    "Currently studying for Microsoft Certified Professional (MCSA). Working as Systems Administrator and Support Technician. In my spare time I built apps with more than 500,000 users.\n",
    "\n",
    "Work experience\n",
    "08/2017 - present, Junior System Administrator, 4ward S.p.A., Milan, Italy\n",
    "Creation of VM, Server roles configuration.\n",
    "Administration of Active Directory, SCCM and FS access.\n",
    "Troubleshooting.\n",
    "10/2016 - present, Mobile App Developer, Indipendent, Milan, Italy\n",
    "Desing, Build and Market of Mobile Apps.\n",
    "\n",
    "I currently published 2 applications that have more than 5'000 daily users.\n",
    "Language used: Java for Android and Swift for Apple.\n",
    "https://play.google.com/store/apps/dev?id=6832454954093223020&hl=en\n",
    "\n",
    "10/2013 - 10/2015, IT Technical Consultant (Help Desk Tier 2), Present S.p.A., Milan, Italy\n",
    "IT Technical Consultant @ Edison S.p.A. (a client of my company)\n",
    "\n",
    "On-site and remote Software/Network/OS Troubleshooting -more countries-\n",
    "Administration of the antivirus clients with McAfee ePolicy Orchestrator.\n",
    "Configuration of the pc's using master images.​\n",
    "I managed the international/​national video conference of the company.\n",
    "\n",
    "\"\"\"\n",
    "\n",
    "response = get_skills_context(resume)"
   ]
  },
  {
   "cell_type": "code",
   "execution_count": 35,
   "metadata": {},
   "outputs": [
    {
     "name": "stdout",
     "output_type": "stream",
     "text": [
      "\n",
      "configure server roles\n",
      "configure active directory\n",
      "configure sccm\n",
      "troubleshoot\n",
      "build mobile apps\n",
      "design mobile apps\n",
      "market mobile apps\n",
      "communicate with clients\n",
      "maintain pc's\n",
      "install antivirus clients\n",
      "configure pc's\n",
      "manage international/​national\n"
     ]
    }
   ],
   "source": [
    "extract_ans(response)"
   ]
  },
  {
   "cell_type": "code",
   "execution_count": null,
   "metadata": {},
   "outputs": [],
   "source": []
  }
 ],
 "metadata": {
  "kernelspec": {
   "display_name": "Python 3",
   "language": "python",
   "name": "python3"
  },
  "language_info": {
   "codemirror_mode": {
    "name": "ipython",
    "version": 3
   },
   "file_extension": ".py",
   "mimetype": "text/x-python",
   "name": "python",
   "nbconvert_exporter": "python",
   "pygments_lexer": "ipython3",
   "version": "3.7.6"
  }
 },
 "nbformat": 4,
 "nbformat_minor": 4
}
