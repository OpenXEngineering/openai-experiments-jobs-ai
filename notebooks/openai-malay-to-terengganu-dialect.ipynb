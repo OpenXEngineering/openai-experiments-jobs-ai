{
 "cells": [
  {
   "cell_type": "code",
   "execution_count": 1,
   "metadata": {},
   "outputs": [],
   "source": [
    "# load libraries\n",
    "import os\n",
    "import openai\n",
    "\n",
    "# Define variables\n",
    "openai.api_key = os.getenv('OPENAI_API_KEY')\n"
   ]
  },
  {
   "cell_type": "code",
   "execution_count": 12,
   "metadata": {},
   "outputs": [],
   "source": [
    "def malay_trg(text):\n",
    "    response = openai.Completion.create(\n",
    "      engine=\"davinci\",\n",
    "      prompt=\"\"\"Ini adalah program pengalih bahasa\n",
    "      \n",
    "                 Kau buat apa ni?:Mung wak mende ning? ###\n",
    "                 Tak faham bahasa sungguh kau ni:Dok pahang bahase goh mung ning ###\n",
    "                 telefon berbunyi tu:Talipung bunying tu ###\n",
    "                 Kenapa jadi macam tu?:Bakpe jadi gitu? ###\n",
    "                 Ikut suka aku la:Ikut panda aku ar ###\n",
    "                 Sedapnya bercakap:Sedak teh cakak ###\n",
    "                 Nak pergi mana tu bro?:Nok gi mane tu boh? ###\n",
    "                 Cuba kau tengok:Ce mung tengok ###\n",
    "                 Malas aku nak tengok:Malah aku nok tengok ###\n",
    "                 Kau tak nak makan ke?:Mung takboh makang ke? ###\n",
    "                 Lauk tak sedap:Lauk dok sedak ###\n",
    "                 Sedap ni:Sedak ning ###\n",
    "                 Cuba kau rasa:Ce mung rase ###\n",
    "                 Tawar sangat lauk ni:Tawo heber lauk ning ###\n",
    "                 Tak boleh makan masin sangat:Dokleh makang maseng sangak ###\n",
    "                 Nanti kena penyakit darah tinggi:Kekgi kene nyakek daroh tinggi ###\n",
    "                 Kau jangan nak tipu:Mung jangang nok pelawok ###\n",
    "                 Aku tak tipu pun:Aku dok pelawok pung ###\n",
    "                 Jangan buat macam tu..tak baik:Jangang wak gitu..dok baik ###\n",
    "                 Ikut suka aku la nak buat apa pun:Ikut panda aku ar nok wak gane-gane pung ###\n",
    "                 Kenapa kau degil sangat?:Bakpe mung keghah keng ngak? ###\n",
    "                 Sebab,memang aku degil pun:Sebak,memang aku keghah keng pung ###\n",
    "                 Tak elok kau buat begini:Dok molek mung wak gining ###\n",
    "                 Kenapa kau sibuk nak ambil tahu?:Bakpe mung sibuk nok ambik tahu? ###\n",
    "                 Sebab,kau kan adik aku:Sebak,mung kang adik aku ###\n",
    "                 Bila masa pula aku jadi adik kau?:Bila masa pulok aku jadi adik mung? ###\n",
    "                 Baru kejap tadi:Baru sakning ###\n",
    "                 Kau ni otak tak betul ke?:Mung ning otok mereng ke? ###\n",
    "                 Biarlah kau nak kata apa pun:Biarlah mung nok kata mende pung ###\n",
    "                 Pergi baliklah kau:Gi baliklah mung ###\n",
    "                 Aku tak mahu biarkan kau kat sini:Aku takboh lok mung sining ###\n",
    "                 kenapa pula?:Bakpe pulok? ###\n",
    "                 Tak ada apa-apa:Takdok mende-mende ###\n",
    "                 {text}:\"\"\".format(text=text),\n",
    "       temperature=0.3,\n",
    "      max_tokens=60,\n",
    "      top_p=1.0,\n",
    "      frequency_penalty=0.0,\n",
    "      presence_penalty=0.0,\n",
    "      stop=[\" ###\"]\n",
    "    )\n",
    "    \n",
    "    return response"
   ]
  },
  {
   "cell_type": "code",
   "execution_count": 26,
   "metadata": {},
   "outputs": [],
   "source": [
    "def english_malay(text):\n",
    "    response = openai.Completion.create(\n",
    "      engine=\"davinci\",\n",
    "      prompt=\"\"\"This is a malay translator\n",
    "      \n",
    "                 what are you doing?:apa yang kau buat tu? ###\n",
    "                 Have you eaten yet?:kau dah makan belum? ###\n",
    "                 i've eaten already:aku dah makan dah ###\n",
    "                 {text}:\"\"\".format(text=text),\n",
    "       temperature=0.3,\n",
    "      max_tokens=60,\n",
    "      top_p=1.0,\n",
    "      frequency_penalty=0.0,\n",
    "      presence_penalty=0.0,\n",
    "      stop=[\" ###\"]\n",
    "    )\n",
    "    \n",
    "    return response"
   ]
  },
  {
   "cell_type": "code",
   "execution_count": 27,
   "metadata": {},
   "outputs": [],
   "source": [
    "def extract_ans(response):\n",
    "    return response.choices[0].text.partition('\\n')[0]"
   ]
  },
  {
   "cell_type": "code",
   "execution_count": 28,
   "metadata": {},
   "outputs": [
    {
     "data": {
      "text/plain": [
       "'Bakpe takmakang?'"
      ]
     },
     "execution_count": 28,
     "metadata": {},
     "output_type": "execute_result"
    }
   ],
   "source": [
    "extract_ans(malay_trg('kenapa tak makan?'))"
   ]
  },
  {
   "cell_type": "code",
   "execution_count": 29,
   "metadata": {},
   "outputs": [
    {
     "data": {
      "text/plain": [
       "'apa yang kau buat tu?'"
      ]
     },
     "execution_count": 29,
     "metadata": {},
     "output_type": "execute_result"
    }
   ],
   "source": [
    "extract_ans(english_malay('why are you not eating?'))"
   ]
  },
  {
   "cell_type": "code",
   "execution_count": 23,
   "metadata": {},
   "outputs": [
    {
     "data": {
      "text/plain": [
       "<OpenAIObject text_completion id=cmpl-339FQ8Id4C3Var5gMAYLUhVId0EcM at 0x21b03cadca8> JSON: {\n",
       "  \"choices\": [\n",
       "    {\n",
       "      \"finish_reason\": \"stop\",\n",
       "      \"index\": 0,\n",
       "      \"logprobs\": null,\n",
       "      \"text\": \"Mende yang kau buat tu?\"\n",
       "    }\n",
       "  ],\n",
       "  \"created\": 1621879544,\n",
       "  \"id\": \"cmpl-339FQ8Id4C3Var5gMAYLUhVId0EcM\",\n",
       "  \"model\": \"davinci:2020-05-03\",\n",
       "  \"object\": \"text_completion\"\n",
       "}"
      ]
     },
     "execution_count": 23,
     "metadata": {},
     "output_type": "execute_result"
    }
   ],
   "source": [
    "malay_trg(extract_ans(english_malay('why are you not eating?')))"
   ]
  },
  {
   "cell_type": "code",
   "execution_count": null,
   "metadata": {},
   "outputs": [],
   "source": []
  }
 ],
 "metadata": {
  "kernelspec": {
   "display_name": "Python 3",
   "language": "python",
   "name": "python3"
  },
  "language_info": {
   "codemirror_mode": {
    "name": "ipython",
    "version": 3
   },
   "file_extension": ".py",
   "mimetype": "text/x-python",
   "name": "python",
   "nbconvert_exporter": "python",
   "pygments_lexer": "ipython3",
   "version": "3.7.6"
  }
 },
 "nbformat": 4,
 "nbformat_minor": 4
}
