{
 "cells": [
  {
   "cell_type": "code",
   "execution_count": 1,
   "metadata": {},
   "outputs": [],
   "source": [
    "import os"
   ]
  },
  {
   "cell_type": "code",
   "execution_count": 2,
   "metadata": {},
   "outputs": [
    {
     "name": "stdout",
     "output_type": "stream",
     "text": [
      "Requirement already satisfied: openai in c:\\users\\hafid\\anaconda3\\lib\\site-packages (0.6.3)\n",
      "Requirement already satisfied: requests>=2.20; python_version >= \"3.0\" in c:\\users\\hafid\\anaconda3\\lib\\site-packages (from openai) (2.22.0)\n",
      "Requirement already satisfied: tqdm in c:\\users\\hafid\\anaconda3\\lib\\site-packages (from openai) (4.42.1)\n",
      "Requirement already satisfied: chardet<3.1.0,>=3.0.2 in c:\\users\\hafid\\anaconda3\\lib\\site-packages (from requests>=2.20; python_version >= \"3.0\"->openai) (3.0.4)\n",
      "Requirement already satisfied: urllib3!=1.25.0,!=1.25.1,<1.26,>=1.21.1 in c:\\users\\hafid\\anaconda3\\lib\\site-packages (from requests>=2.20; python_version >= \"3.0\"->openai) (1.25.8)\n",
      "Requirement already satisfied: idna<2.9,>=2.5 in c:\\users\\hafid\\anaconda3\\lib\\site-packages (from requests>=2.20; python_version >= \"3.0\"->openai) (2.8)\n",
      "Requirement already satisfied: certifi>=2017.4.17 in c:\\users\\hafid\\anaconda3\\lib\\site-packages (from requests>=2.20; python_version >= \"3.0\"->openai) (2019.11.28)\n"
     ]
    }
   ],
   "source": [
    "!pip install openai"
   ]
  },
  {
   "cell_type": "code",
   "execution_count": 3,
   "metadata": {},
   "outputs": [],
   "source": [
    "key = '<insert-apikey-here>'"
   ]
  },
  {
   "cell_type": "code",
   "execution_count": 4,
   "metadata": {},
   "outputs": [],
   "source": [
    "os.environ['OPENAI_API_KEY'] = key"
   ]
  },
  {
   "cell_type": "code",
   "execution_count": null,
   "metadata": {},
   "outputs": [],
   "source": []
  }
 ],
 "metadata": {
  "kernelspec": {
   "display_name": "Python 3",
   "language": "python",
   "name": "python3"
  },
  "language_info": {
   "codemirror_mode": {
    "name": "ipython",
    "version": 3
   },
   "file_extension": ".py",
   "mimetype": "text/x-python",
   "name": "python",
   "nbconvert_exporter": "python",
   "pygments_lexer": "ipython3",
   "version": "3.7.6"
  }
 },
 "nbformat": 4,
 "nbformat_minor": 4
}
